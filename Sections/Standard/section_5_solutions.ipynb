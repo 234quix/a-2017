{
 "cells": [
  {
   "cell_type": "markdown",
   "metadata": {},
   "source": [
    "# CS 109A/STAT 121A/AC 209A/CSCI E-109A\n",
    "\n",
    "## Standard Section 5: Partial Components Analysis (PCA) Fitting and Model Selection\n",
    "\n",
    "**Harvard University**<br/>\n",
    "**Fall 2017**<br/>\n",
    "**Section Leaders: Albert Wu, Nathaniel Burbank<br/>**\n",
    "**Instructors: Pavlos Protopapas, Kevin Rader, Rahul Dave, Margo Levine** "
   ]
  },
  {
   "cell_type": "markdown",
   "metadata": {},
   "source": [
    "<center>**Download this notebook from the CS109 repo or here:**</center>\n",
    "<center>**http://bit.ly/109_S5**</center>\n",
    "\n",
    "For this section, our goal is to review and further our understanding of the Partial Components Analysis (PCA) model. PCA is highly effective in applications to high dimensionional datasets, which we will use here. Specifically, this section is designed to help us answer Homework 4, part (h). \n",
    "\n",
    "Specifically, we will: \n",
    "    \n",
    "    1. Review the basics of Partial Components Analysis and hone our intution\n",
    "    2. Discuss implementation of PCA within Python and coding issues to keep in mind\n",
    "    3. Use the principles of model selection we have learned in lecture to find a \"best\" PCA feature set.\n",
    "    4. Compare our PCA model with other models we have fit in labs and lecture and discuss coefficient meanings.\n"
   ]
  },
  {
   "cell_type": "markdown",
   "metadata": {},
   "source": [
    "For this section we will be using the following packages:"
   ]
  },
  {
   "cell_type": "code",
   "execution_count": 66,
   "metadata": {},
   "outputs": [],
   "source": [
    "import sys\n",
    "import numpy as np\n",
    "import pandas as pd\n",
    "pd.set_option('display.max_rows', 999)\n",
    "pd.set_option('display.max_columns', None)\n",
    "pd.set_option('display.width', 1000)\n",
    "pd.set_option('display.notebook_repr_html', True)\n",
    "import matplotlib\n",
    "import matplotlib.pyplot as plt\n",
    "import seaborn as sns\n",
    "\n",
    "import statsmodels.api as sm\n",
    "from statsmodels.tools import add_constant\n",
    "from statsmodels.regression.linear_model import RegressionResults\n",
    "from sklearn.preprocessing import MinMaxScaler\n",
    "from sklearn.model_selection import KFold\n",
    "from sklearn.linear_model import LinearRegression\n",
    "from sklearn.linear_model import Ridge\n",
    "from sklearn.linear_model import Lasso\n",
    "from sklearn.preprocessing import PolynomialFeatures\n",
    "from sklearn.neighbors import KNeighborsRegressor\n",
    "from sklearn.decomposition import PCA\n",
    "from sklearn.model_selection import train_test_split\n",
    "# Note --  Requires sklearn version .18 or higher  \n",
    "\n",
    "from sklearn import metrics, datasets\n",
    "from collections import Counter\n",
    "import statsmodels.formula.api as sm\n",
    "from statsmodels.api import OLS\n",
    "from sklearn.linear_model import LinearRegression\n",
    "sns.set(style=\"ticks\")\n",
    "%matplotlib inline\n",
    "\n",
    "import warnings\n",
    "warnings.filterwarnings(\"ignore\")\n",
    "\n",
    "matplotlib.rcParams['figure.figsize'] = (13.0, 6.0)\n",
    "\n",
    "assert(sys.version_info.major==3),print(sys.version)\n",
    "# Python 3 or higher is required"
   ]
  },
  {
   "cell_type": "markdown",
   "metadata": {},
   "source": [
    "## Part (1): Load in our data and fit the PCA model\n"
   ]
  },
  {
   "cell_type": "markdown",
   "metadata": {},
   "source": [
    "We will first load in our dataset below and look at the first few rows. Then, we use the describe function to get a sense of the data."
   ]
  },
  {
   "cell_type": "code",
   "execution_count": 78,
   "metadata": {},
   "outputs": [
    {
     "data": {
      "text/html": [
       "<div>\n",
       "<style>\n",
       "    .dataframe thead tr:only-child th {\n",
       "        text-align: right;\n",
       "    }\n",
       "\n",
       "    .dataframe thead th {\n",
       "        text-align: left;\n",
       "    }\n",
       "\n",
       "    .dataframe tbody tr th {\n",
       "        vertical-align: top;\n",
       "    }\n",
       "</style>\n",
       "<table border=\"1\" class=\"dataframe\">\n",
       "  <thead>\n",
       "    <tr style=\"text-align: right;\">\n",
       "      <th></th>\n",
       "      <th>Incidence</th>\n",
       "      <th>Temp</th>\n",
       "      <th>Dewpoint</th>\n",
       "      <th>Windspeed</th>\n",
       "      <th>Pressure</th>\n",
       "      <th>Precipitation</th>\n",
       "      <th>TMAX_C</th>\n",
       "      <th>TMIN_C</th>\n",
       "      <th>Year</th>\n",
       "      <th>Month</th>\n",
       "      <th>DOW</th>\n",
       "      <th>Weekend</th>\n",
       "      <th>Season</th>\n",
       "    </tr>\n",
       "  </thead>\n",
       "  <tbody>\n",
       "    <tr>\n",
       "      <th>0</th>\n",
       "      <td>182</td>\n",
       "      <td>26.444444</td>\n",
       "      <td>15.944444</td>\n",
       "      <td>8.5</td>\n",
       "      <td>1008.5</td>\n",
       "      <td>0.0</td>\n",
       "      <td>31.722222</td>\n",
       "      <td>21.722222</td>\n",
       "      <td>2012</td>\n",
       "      <td>7</td>\n",
       "      <td>Sunday</td>\n",
       "      <td>1</td>\n",
       "      <td>Summer</td>\n",
       "    </tr>\n",
       "    <tr>\n",
       "      <th>1</th>\n",
       "      <td>295</td>\n",
       "      <td>24.333333</td>\n",
       "      <td>9.666667</td>\n",
       "      <td>7.9</td>\n",
       "      <td>1012.2</td>\n",
       "      <td>0.0</td>\n",
       "      <td>31.722222</td>\n",
       "      <td>20.000000</td>\n",
       "      <td>2012</td>\n",
       "      <td>7</td>\n",
       "      <td>Monday</td>\n",
       "      <td>0</td>\n",
       "      <td>Summer</td>\n",
       "    </tr>\n",
       "    <tr>\n",
       "      <th>2</th>\n",
       "      <td>267</td>\n",
       "      <td>22.722222</td>\n",
       "      <td>9.666667</td>\n",
       "      <td>5.5</td>\n",
       "      <td>1016.0</td>\n",
       "      <td>0.0</td>\n",
       "      <td>28.888889</td>\n",
       "      <td>18.277778</td>\n",
       "      <td>2012</td>\n",
       "      <td>7</td>\n",
       "      <td>Tuesday</td>\n",
       "      <td>0</td>\n",
       "      <td>Summer</td>\n",
       "    </tr>\n",
       "    <tr>\n",
       "      <th>3</th>\n",
       "      <td>250</td>\n",
       "      <td>23.166667</td>\n",
       "      <td>14.500000</td>\n",
       "      <td>6.7</td>\n",
       "      <td>1020.1</td>\n",
       "      <td>0.0</td>\n",
       "      <td>28.277778</td>\n",
       "      <td>18.277778</td>\n",
       "      <td>2012</td>\n",
       "      <td>7</td>\n",
       "      <td>Wednesday</td>\n",
       "      <td>0</td>\n",
       "      <td>Summer</td>\n",
       "    </tr>\n",
       "    <tr>\n",
       "      <th>4</th>\n",
       "      <td>259</td>\n",
       "      <td>24.500000</td>\n",
       "      <td>15.611111</td>\n",
       "      <td>8.6</td>\n",
       "      <td>1021.3</td>\n",
       "      <td>0.0</td>\n",
       "      <td>30.000000</td>\n",
       "      <td>18.888889</td>\n",
       "      <td>2012</td>\n",
       "      <td>7</td>\n",
       "      <td>Thursday</td>\n",
       "      <td>0</td>\n",
       "      <td>Summer</td>\n",
       "    </tr>\n",
       "  </tbody>\n",
       "</table>\n",
       "</div>"
      ],
      "text/plain": [
       "   Incidence       Temp   Dewpoint  Windspeed  Pressure  Precipitation     TMAX_C     TMIN_C  Year  Month        DOW  Weekend  Season\n",
       "0        182  26.444444  15.944444        8.5    1008.5            0.0  31.722222  21.722222  2012      7     Sunday        1  Summer\n",
       "1        295  24.333333   9.666667        7.9    1012.2            0.0  31.722222  20.000000  2012      7     Monday        0  Summer\n",
       "2        267  22.722222   9.666667        5.5    1016.0            0.0  28.888889  18.277778  2012      7    Tuesday        0  Summer\n",
       "3        250  23.166667  14.500000        6.7    1020.1            0.0  28.277778  18.277778  2012      7  Wednesday        0  Summer\n",
       "4        259  24.500000  15.611111        8.6    1021.3            0.0  30.000000  18.888889  2012      7   Thursday        0  Summer"
      ]
     },
     "execution_count": 78,
     "metadata": {},
     "output_type": "execute_result"
    }
   ],
   "source": [
    "crime_df = pd.read_csv('Crime.csv').drop('Date', axis=1)\n",
    "crime_df.head()"
   ]
  },
  {
   "cell_type": "code",
   "execution_count": 79,
   "metadata": {},
   "outputs": [
    {
     "data": {
      "text/html": [
       "<div>\n",
       "<style>\n",
       "    .dataframe thead tr:only-child th {\n",
       "        text-align: right;\n",
       "    }\n",
       "\n",
       "    .dataframe thead th {\n",
       "        text-align: left;\n",
       "    }\n",
       "\n",
       "    .dataframe tbody tr th {\n",
       "        vertical-align: top;\n",
       "    }\n",
       "</style>\n",
       "<table border=\"1\" class=\"dataframe\">\n",
       "  <thead>\n",
       "    <tr style=\"text-align: right;\">\n",
       "      <th></th>\n",
       "      <th>Incidence</th>\n",
       "      <th>Temp</th>\n",
       "      <th>Dewpoint</th>\n",
       "      <th>Windspeed</th>\n",
       "      <th>Pressure</th>\n",
       "      <th>Precipitation</th>\n",
       "      <th>TMAX_C</th>\n",
       "      <th>TMIN_C</th>\n",
       "      <th>Year</th>\n",
       "      <th>Month</th>\n",
       "      <th>Weekend</th>\n",
       "    </tr>\n",
       "  </thead>\n",
       "  <tbody>\n",
       "    <tr>\n",
       "      <th>count</th>\n",
       "      <td>1095.000000</td>\n",
       "      <td>1095.000000</td>\n",
       "      <td>1095.000000</td>\n",
       "      <td>1095.000000</td>\n",
       "      <td>1095.000000</td>\n",
       "      <td>1095.000000</td>\n",
       "      <td>1095.000000</td>\n",
       "      <td>1095.000000</td>\n",
       "      <td>1095.000000</td>\n",
       "      <td>1095.000000</td>\n",
       "      <td>1095.000000</td>\n",
       "    </tr>\n",
       "    <tr>\n",
       "      <th>mean</th>\n",
       "      <td>238.107763</td>\n",
       "      <td>10.583815</td>\n",
       "      <td>3.713090</td>\n",
       "      <td>9.168767</td>\n",
       "      <td>1016.463562</td>\n",
       "      <td>0.114913</td>\n",
       "      <td>16.309082</td>\n",
       "      <td>5.841755</td>\n",
       "      <td>2013.515068</td>\n",
       "      <td>6.526027</td>\n",
       "      <td>0.285845</td>\n",
       "    </tr>\n",
       "    <tr>\n",
       "      <th>std</th>\n",
       "      <td>31.539843</td>\n",
       "      <td>9.913817</td>\n",
       "      <td>10.848571</td>\n",
       "      <td>3.269969</td>\n",
       "      <td>7.632274</td>\n",
       "      <td>0.303409</td>\n",
       "      <td>10.445645</td>\n",
       "      <td>9.806276</td>\n",
       "      <td>0.957746</td>\n",
       "      <td>3.449427</td>\n",
       "      <td>0.452022</td>\n",
       "    </tr>\n",
       "    <tr>\n",
       "      <th>min</th>\n",
       "      <td>115.000000</td>\n",
       "      <td>-14.222222</td>\n",
       "      <td>-24.277778</td>\n",
       "      <td>2.200000</td>\n",
       "      <td>987.400000</td>\n",
       "      <td>0.000000</td>\n",
       "      <td>-10.000000</td>\n",
       "      <td>-19.388889</td>\n",
       "      <td>2012.000000</td>\n",
       "      <td>1.000000</td>\n",
       "      <td>0.000000</td>\n",
       "    </tr>\n",
       "    <tr>\n",
       "      <th>25%</th>\n",
       "      <td>219.000000</td>\n",
       "      <td>2.500000</td>\n",
       "      <td>-4.055556</td>\n",
       "      <td>6.900000</td>\n",
       "      <td>1011.300000</td>\n",
       "      <td>0.000000</td>\n",
       "      <td>7.222222</td>\n",
       "      <td>-1.111111</td>\n",
       "      <td>2013.000000</td>\n",
       "      <td>4.000000</td>\n",
       "      <td>0.000000</td>\n",
       "    </tr>\n",
       "    <tr>\n",
       "      <th>50%</th>\n",
       "      <td>240.000000</td>\n",
       "      <td>11.333333</td>\n",
       "      <td>4.722222</td>\n",
       "      <td>8.700000</td>\n",
       "      <td>1016.400000</td>\n",
       "      <td>0.000000</td>\n",
       "      <td>17.222222</td>\n",
       "      <td>6.722222</td>\n",
       "      <td>2014.000000</td>\n",
       "      <td>7.000000</td>\n",
       "      <td>0.000000</td>\n",
       "    </tr>\n",
       "    <tr>\n",
       "      <th>75%</th>\n",
       "      <td>259.000000</td>\n",
       "      <td>19.111111</td>\n",
       "      <td>12.888889</td>\n",
       "      <td>11.000000</td>\n",
       "      <td>1021.400000</td>\n",
       "      <td>0.055000</td>\n",
       "      <td>25.611111</td>\n",
       "      <td>15.000000</td>\n",
       "      <td>2014.000000</td>\n",
       "      <td>10.000000</td>\n",
       "      <td>1.000000</td>\n",
       "    </tr>\n",
       "    <tr>\n",
       "      <th>max</th>\n",
       "      <td>349.000000</td>\n",
       "      <td>30.944444</td>\n",
       "      <td>22.444444</td>\n",
       "      <td>25.800000</td>\n",
       "      <td>1040.400000</td>\n",
       "      <td>3.540000</td>\n",
       "      <td>37.222222</td>\n",
       "      <td>26.111111</td>\n",
       "      <td>2015.000000</td>\n",
       "      <td>12.000000</td>\n",
       "      <td>1.000000</td>\n",
       "    </tr>\n",
       "  </tbody>\n",
       "</table>\n",
       "</div>"
      ],
      "text/plain": [
       "         Incidence         Temp     Dewpoint    Windspeed     Pressure  Precipitation       TMAX_C       TMIN_C         Year        Month      Weekend\n",
       "count  1095.000000  1095.000000  1095.000000  1095.000000  1095.000000    1095.000000  1095.000000  1095.000000  1095.000000  1095.000000  1095.000000\n",
       "mean    238.107763    10.583815     3.713090     9.168767  1016.463562       0.114913    16.309082     5.841755  2013.515068     6.526027     0.285845\n",
       "std      31.539843     9.913817    10.848571     3.269969     7.632274       0.303409    10.445645     9.806276     0.957746     3.449427     0.452022\n",
       "min     115.000000   -14.222222   -24.277778     2.200000   987.400000       0.000000   -10.000000   -19.388889  2012.000000     1.000000     0.000000\n",
       "25%     219.000000     2.500000    -4.055556     6.900000  1011.300000       0.000000     7.222222    -1.111111  2013.000000     4.000000     0.000000\n",
       "50%     240.000000    11.333333     4.722222     8.700000  1016.400000       0.000000    17.222222     6.722222  2014.000000     7.000000     0.000000\n",
       "75%     259.000000    19.111111    12.888889    11.000000  1021.400000       0.055000    25.611111    15.000000  2014.000000    10.000000     1.000000\n",
       "max     349.000000    30.944444    22.444444    25.800000  1040.400000       3.540000    37.222222    26.111111  2015.000000    12.000000     1.000000"
      ]
     },
     "execution_count": 79,
     "metadata": {},
     "output_type": "execute_result"
    }
   ],
   "source": [
    "crime_df.describe()"
   ]
  },
  {
   "cell_type": "markdown",
   "metadata": {},
   "source": [
    "Convert the columns that are categorical variables into dummy variables."
   ]
  },
  {
   "cell_type": "code",
   "execution_count": 80,
   "metadata": {},
   "outputs": [],
   "source": [
    "categorical_columns = ['Year', 'Month', 'Weekend', 'Season', 'DOW']\n",
    "numerical_columns = ['Incidence', 'Temp', 'Dewpoint', 'Windspeed', 'Pressure', 'Precipitation', 'TMAX_C', 'TMIN_C']\n",
    "crime_df = pd.get_dummies(crime_df, columns=categorical_columns, drop_first=True)"
   ]
  },
  {
   "cell_type": "markdown",
   "metadata": {},
   "source": [
    "Now, let's split this dataset up into a testing and training set."
   ]
  },
  {
   "cell_type": "code",
   "execution_count": 81,
   "metadata": {},
   "outputs": [
    {
     "data": {
      "text/plain": [
       "((876, 32), (219, 32))"
      ]
     },
     "execution_count": 81,
     "metadata": {},
     "output_type": "execute_result"
    }
   ],
   "source": [
    "train, test =  train_test_split(crime_df, test_size=.2, random_state=123)\n",
    "train.shape,test.shape"
   ]
  },
  {
   "cell_type": "markdown",
   "metadata": {},
   "source": [
    "Now let us standarize the numerical variables only."
   ]
  },
  {
   "cell_type": "code",
   "execution_count": 82,
   "metadata": {
    "collapsed": true
   },
   "outputs": [],
   "source": [
    "mean = train[numerical_columns].mean()\n",
    "std = train[numerical_columns].std()\n",
    "\n",
    "mean_t = test[numerical_columns].mean()\n",
    "std_t = test[numerical_columns].std()\n",
    "\n",
    "train[numerical_columns] = (train[numerical_columns] - mean)/std\n",
    "test[numerical_columns] = (test[numerical_columns] - mean_t)/std_t"
   ]
  },
  {
   "cell_type": "markdown",
   "metadata": {},
   "source": [
    "Now to let us subset and create convenient formats for parts in train and test"
   ]
  },
  {
   "cell_type": "code",
   "execution_count": 91,
   "metadata": {},
   "outputs": [],
   "source": [
    "all_predictors = ['Temp','Dewpoint','Windspeed','Pressure','Precipitation','TMAX_C','TMIN_C','Year_2013','Year_2014','Year_2015','Month_2','Month_3','Month_4','Month_5','Month_6','Month_7','Month_8','Month_9','Month_10','Month_11','Month_12','Weekend_1','Season_Spring','Season_Summer','Season_Winter','DOW_Monday','DOW_Saturday','DOW_Sunday','DOW_Thursday','DOW_Tuesday','DOW_Wednesday']\n",
    "\n",
    "X_train_df = train[all_predictors]\n",
    "X_test_df  = test[all_predictors]\n",
    "X_train_np = train[all_predictors].values\n",
    "X_test_np  = test[all_predictors].values\n",
    "y_train = train['Incidence'].values\n",
    "y_test = test['Incidence'].values"
   ]
  },
  {
   "cell_type": "code",
   "execution_count": 112,
   "metadata": {},
   "outputs": [
    {
     "name": "stdout",
     "output_type": "stream",
     "text": [
      "Explained variance ratio: [  4.23102231e-01   1.55636568e-01   7.88115360e-02   5.75802443e-02\n",
      "   3.60898297e-02   3.34295097e-02   3.17524515e-02   2.13091889e-02\n",
      "   1.64031327e-02   1.49251832e-02   1.46249090e-02   1.43912552e-02\n",
      "   1.39613947e-02   1.33238368e-02   9.38209378e-03   8.98097315e-03\n",
      "   8.60761929e-03   8.37845137e-03   8.25295260e-03   7.93921559e-03\n",
      "   7.47373518e-03   4.94999329e-03   3.17236061e-03   2.51179842e-03\n",
      "   2.45951862e-03   1.48140742e-03   1.06861030e-03   8.34422022e-32\n",
      "   3.14231434e-33   3.14231434e-33   3.14231434e-33]\n"
     ]
    }
   ],
   "source": [
    "pca = PCA(n_components=31)\n",
    "pca.fit(X_train_np)\n",
    "train_pca = pca.transform(X_train_np)\n",
    "test_pca = pca.transform(X_test_np)\n",
    "\n",
    "print('Explained variance ratio:', pca.explained_variance_ratio_)"
   ]
  },
  {
   "cell_type": "code",
   "execution_count": null,
   "metadata": {
    "collapsed": true
   },
   "outputs": [],
   "source": []
  },
  {
   "cell_type": "code",
   "execution_count": 99,
   "metadata": {},
   "outputs": [
    {
     "data": {
      "image/png": "[encoded data removed]",
      "text/plain": [
       "<matplotlib.figure.Figure at 0x119e8a6d8>"
      ]
     },
     "metadata": {},
     "output_type": "display_data"
    }
   ],
   "source": [
    "fig, ax = plt.subplots(1, 3, figsize=(20, 5))\n",
    "\n",
    "ax[0].scatter(train_pca[:, 0], train_pca[:, 1], color='blue', alpha=0.2, label='train R^2')\n",
    "\n",
    "ax[0].set_title('Dimension Reduced Data')\n",
    "ax[0].set_xlabel('1st Principal Component')\n",
    "ax[0].set_ylabel('2nd Principal Component')\n",
    "\n",
    "ax[1].scatter(train_pca[:, 1], train_pca[:, 2], color='red', alpha=0.2, label='train R^2')\n",
    "\n",
    "ax[1].set_title('Dimension Reduced Data')\n",
    "ax[1].set_xlabel('2nd Principal Component')\n",
    "ax[1].set_ylabel('3rd Principal Component')\n",
    "\n",
    "ax[2].scatter(train_pca[:, 2], train_pca[:, 3], color='green', alpha=0.2, label='train R^2')\n",
    "\n",
    "ax[2].set_title('Dimension Reduced Data')\n",
    "ax[2].set_xlabel('3rd Principal Component')\n",
    "ax[2].set_ylabel('4th Principal Component')\n",
    "\n",
    "plt.show()"
   ]
  },
  {
   "cell_type": "code",
   "execution_count": 113,
   "metadata": {},
   "outputs": [
    {
     "name": "stdout",
     "output_type": "stream",
     "text": [
      "Test R^2: 0.4060320729673273\n"
     ]
    }
   ],
   "source": [
    "regression_model = LinearRegression(fit_intercept=True)\n",
    "regression_model.fit(train_pca, y_train)\n",
    "\n",
    "print('Test R^2: {}'.format(regression_model.score(test_pca, y_test)))"
   ]
  },
  {
   "cell_type": "code",
   "execution_count": 114,
   "metadata": {},
   "outputs": [
    {
     "name": "stdout",
     "output_type": "stream",
     "text": [
      "Test R^2: 0.40645568346387384\n"
     ]
    }
   ],
   "source": [
    "regression_model = LinearRegression(fit_intercept=True)\n",
    "regression_model.fit(X_train_np, y_train)\n",
    "\n",
    "print('Test R^2: {}'.format(regression_model.score(X_test_np, y_test)))"
   ]
  },
  {
   "cell_type": "code",
   "execution_count": null,
   "metadata": {
    "collapsed": true
   },
   "outputs": [],
   "source": []
  },
  {
   "cell_type": "markdown",
   "metadata": {},
   "source": [
    "## 3) Now to look at the interactions terms "
   ]
  },
  {
   "cell_type": "code",
   "execution_count": 116,
   "metadata": {},
   "outputs": [
    {
     "name": "stdout",
     "output_type": "stream",
     "text": [
      "number of total predictors 52360\n"
     ]
    }
   ],
   "source": [
    "gen_poly_terms = PolynomialFeatures(degree=4, interaction_only=False)\n",
    "\n",
    "min_max_scaler = MinMaxScaler()\n",
    "X_train_np = min_max_scaler.fit_transform(X_train_np)\n",
    "X_test_np = min_max_scaler.fit_transform(X_test_np)\n",
    "\n",
    "X_train_full_poly = gen_poly_terms.fit_transform(X_train_np)\n",
    "X_test_full_poly = gen_poly_terms.fit_transform(X_test_np)\n",
    "\n",
    "print('number of total predictors', X_train_full_poly.shape[1])"
   ]
  },
  {
   "cell_type": "code",
   "execution_count": 121,
   "metadata": {},
   "outputs": [
    {
     "name": "stdout",
     "output_type": "stream",
     "text": [
      "Explained variance ratio: [ 0.11577157  0.06814241  0.05607394  0.04537065  0.04051675  0.0389269\n",
      "  0.03622823  0.02915125  0.02447893  0.02423241  0.02383276  0.02325903\n",
      "  0.02253622  0.01735412  0.01674484]\n"
     ]
    }
   ],
   "source": [
    "pca = PCA(n_components=15)\n",
    "pca.fit(X_train_full_poly)\n",
    "X_train_pca = pca.transform(X_train_full_poly)\n",
    "X_test_pca = pca.transform(X_test_full_poly)\n",
    "\n",
    "print('Explained variance ratio:', pca.explained_variance_ratio_)"
   ]
  },
  {
   "cell_type": "code",
   "execution_count": 122,
   "metadata": {},
   "outputs": [
    {
     "name": "stdout",
     "output_type": "stream",
     "text": [
      "Test R^2: 0.2594647824838099\n"
     ]
    }
   ],
   "source": [
    "regression_model = LinearRegression(fit_intercept=True)\n",
    "regression_model.fit(X_train_pca, y_train)\n",
    "\n",
    "print('Test R^2: {}'.format(regression_model.score(X_test_pca, y_test)))"
   ]
  },
  {
   "cell_type": "code",
   "execution_count": 123,
   "metadata": {},
   "outputs": [
    {
     "name": "stdout",
     "output_type": "stream",
     "text": [
      "Explained variance ratio: [ 0.11577157  0.06814241  0.05607394  0.04537065  0.04051675  0.0389269\n",
      "  0.03622823  0.02915125  0.02447893  0.02423241  0.02383277  0.02325903\n",
      "  0.02253625  0.01735414  0.01674492  0.01475451  0.01442648  0.01304387\n",
      "  0.01197604  0.01122059  0.01024944  0.00982345  0.00949853  0.00867306\n",
      "  0.00750947  0.00707672  0.00675862  0.00666869  0.00653244  0.00641926\n",
      "  0.00622978  0.00595118  0.00588676  0.00558606  0.00553315  0.00543103\n",
      "  0.00541686  0.00511123  0.00492043  0.00468201  0.00457612  0.00443328\n",
      "  0.00432961  0.00420883  0.0040865 ]\n"
     ]
    }
   ],
   "source": [
    "pca = PCA(n_components=45)\n",
    "pca.fit(X_train_full_poly)\n",
    "X_train_pca = pca.transform(X_train_full_poly)\n",
    "X_test_pca = pca.transform(X_test_full_poly)\n",
    "\n",
    "print('Explained variance ratio:', pca.explained_variance_ratio_)"
   ]
  },
  {
   "cell_type": "code",
   "execution_count": 124,
   "metadata": {},
   "outputs": [
    {
     "name": "stdout",
     "output_type": "stream",
     "text": [
      "Test R^2: 0.327643051134937\n"
     ]
    }
   ],
   "source": [
    "regression_model = LinearRegression(fit_intercept=True)\n",
    "regression_model.fit(X_train_pca, y_train)\n",
    "\n",
    "print('Test R^2: {}'.format(regression_model.score(X_test_pca, y_test)))"
   ]
  },
  {
   "cell_type": "code",
   "execution_count": 128,
   "metadata": {},
   "outputs": [
    {
     "data": {
      "text/plain": [
       "array([-0.49548032, -1.09919735,  0.2671096 ,  0.39420792,  0.99792494,\n",
       "       -0.55902948,  1.34744532, -0.78145154, -0.81322612,  0.7437283 ,\n",
       "       -1.09919735,  1.12502326, -0.08241078,  0.52130624,  0.29888418,\n",
       "        0.23533502,  0.29888418,  0.1082367 , -1.06742276, -1.67113979,\n",
       "        0.1082367 , -0.46370574, -0.27305826, -0.43193116, -0.14595994,\n",
       "       -0.5272549 ,  0.23533502, -0.08241078, -0.30483284,  0.4259825 ,\n",
       "       -0.33660742,  0.80727746,  1.44276906,  0.4259825 , -1.32161941,\n",
       "        0.48953166, -0.94032444, -0.368382  , -0.30483284,  0.20356044,\n",
       "       -0.01886162,  0.80727746, -0.17773452, -0.65435322, -2.08420933,\n",
       "        0.48953166,  0.45775708, -1.95711101, -1.63936521, -2.87857383,\n",
       "        0.55308082, -0.90854986, -0.87677528,  0.01291296, -0.11418536,\n",
       "        1.76051486,  1.25212158, -0.90854986, -0.01886162,  0.29888418,\n",
       "        0.20356044,  1.09324868,  0.52130624, -0.17773452, -0.40015658,\n",
       "        0.1082367 ,  1.44276906, -0.14595994,  0.33065876,  0.96615036,\n",
       "       -0.30483284, -0.30483284,  1.0614741 ,  0.14001128, -1.89356185,\n",
       "       -0.11418536, -0.11418536, -0.11418536,  0.07646212, -0.27305826,\n",
       "        1.44276906, -2.21130765, -0.49548032, -0.6861278 ,  0.61662998,\n",
       "       -1.44871773,  0.96615036,  1.41099448,  0.96615036, -0.78145154,\n",
       "       -0.94032444, -0.24128368,  0.07646212,  1.25212158, -0.65435322,\n",
       "        0.77550288, -0.40015658, -0.11418536,  0.33065876,  0.4259825 ,\n",
       "        1.31567074, -0.17773452, -1.60759063,  0.4259825 ,  0.20356044,\n",
       "        1.28389616,  1.28389616,  1.25212158, -0.14595994, -1.73468895,\n",
       "       -0.2095091 ,  0.01291296, -0.11418536,  0.29888418, -0.01886162,\n",
       "        0.17178586, -0.33660742, -0.97209902, -1.92533643, -0.368382  ,\n",
       "       -0.27305826,  0.04468754,  0.36243334,  0.1082367 , -0.49548032,\n",
       "       -1.22629567,  0.23533502,  1.12502326,  0.17178586,  0.61662998,\n",
       "        0.64840456,  0.96615036, -1.67113979,  0.7437283 ,  1.09324868,\n",
       "       -0.78145154,  0.9026012 ,  0.96615036,  1.44276906, -1.57581605,\n",
       "       -0.46370574, -0.62257864, -1.92533643,  0.1082367 ,  0.29888418,\n",
       "        0.9026012 ,  0.36243334,  1.15679784, -0.33660742,  0.39420792,\n",
       "        1.12502326, -1.57581605, -1.09919735,  0.01291296,  0.52130624,\n",
       "       -1.06742276, -1.95711101, -1.48049231, -0.11418536, -0.368382  ,\n",
       "       -0.08241078,  0.9026012 ,  1.0614741 ,  2.07826066, -0.368382  ,\n",
       "       -0.87677528,  0.7437283 , -0.59080406,  1.09324868, -0.0506362 ,\n",
       "        1.09324868, -0.74967696,  1.25212158, -0.65435322, -0.11418536,\n",
       "        0.23533502,  1.25212158,  1.60164196,  0.5848554 , -0.97209902,\n",
       "       -0.17773452, -0.71790238, -0.71790238,  0.77550288,  0.1082367 ,\n",
       "       -0.55902948,  0.17178586, -0.24128368, -0.8450007 ,  0.2671096 ,\n",
       "       -0.46370574, -0.55902948, -0.49548032,  0.7437283 , -0.65435322,\n",
       "        0.23533502, -0.49548032, -0.94032444,  0.48953166,  0.71195372,\n",
       "        0.55308082, -0.8450007 , -0.74967696, -0.59080406,  1.56986738,\n",
       "       -0.24128368, -0.6861278 , -0.6861278 , -0.97209902,  0.04468754,\n",
       "       -0.368382  , -0.55902948, -0.08241078,  0.17178586, -0.90854986,\n",
       "       -0.62257864,  0.14001128,  2.42778104,  0.83905204, -0.43193116,\n",
       "       -0.87677528,  1.09324868, -1.19452109, -0.59080406, -0.33660742,\n",
       "        0.39420792,  0.36243334, -1.79823811, -0.87677528, -0.17773452,\n",
       "       -0.27305826, -1.70291437,  1.09324868,  0.23533502, -3.86358581,\n",
       "        1.31567074,  1.34744532,  0.96615036,  1.220347  ,  1.18857242,\n",
       "       -1.35339399, -1.57581605,  0.17178586,  0.99792494,  1.12502326,\n",
       "        1.15679784,  0.1082367 ,  0.01291296, -0.40015658,  0.14001128,\n",
       "       -0.08241078,  0.80727746,  1.18857242, -1.25807025, -0.24128368,\n",
       "        0.48953166,  0.68017914,  0.71195372,  0.7437283 , -0.17773452,\n",
       "       -1.13097193,  0.64840456, -0.5272549 ,  0.7437283 , -0.74967696,\n",
       "       -1.09919735, -1.28984483,  0.99792494,  0.33065876,  0.61662998,\n",
       "        0.14001128, -0.65435322,  0.33065876, -1.19452109, -0.17773452,\n",
       "       -1.89356185,  1.12502326, -1.41694315,  0.1082367 , -1.32161941,\n",
       "       -0.2095091 ,  0.14001128,  2.71375226,  0.20356044,  0.9026012 ,\n",
       "        0.33065876, -0.59080406,  0.23533502, -1.13097193, -0.14595994,\n",
       "        0.80727746,  0.87082662,  0.04468754,  0.20356044, -0.46370574,\n",
       "       -1.70291437,  0.9026012 , -0.5272549 ,  0.5848554 , -0.87677528,\n",
       "        0.14001128,  0.52130624,  1.98293692,  1.25212158, -0.43193116,\n",
       "        0.61662998, -0.24128368, -0.14595994, -0.43193116, -0.368382  ,\n",
       "       -0.40015658,  0.52130624, -0.27305826, -3.67293833,  0.39420792,\n",
       "       -1.32161941,  1.34744532,  1.25212158, -0.55902948,  0.7437283 ,\n",
       "        1.98293692, -1.32161941, -1.13097193, -0.40015658, -0.33660742,\n",
       "       -0.97209902, -0.78145154,  0.39420792, -1.38516857, -1.32161941,\n",
       "       -0.71790238,  2.11003524,  0.1082367 , -0.24128368,  2.14180982,\n",
       "        0.07646212, -0.62257864, -0.27305826,  0.55308082, -0.27305826,\n",
       "        0.5848554 ,  0.96615036, -0.17773452, -0.24128368,  0.55308082,\n",
       "       -0.30483284, -1.0038736 , -0.6861278 , -0.62257864, -1.32161941,\n",
       "        0.20356044, -0.46370574, -0.11418536,  0.80727746,  0.2671096 ,\n",
       "       -0.65435322,  2.11003524, -0.30483284,  2.0147115 , -1.03564818,\n",
       "        0.52130624,  0.5848554 ,  1.0614741 ,  0.36243334, -0.14595994,\n",
       "        0.52130624,  0.17178586,  1.60164196, -0.59080406, -0.43193116,\n",
       "       -0.01886162, -0.97209902, -0.49548032, -0.11418536,  0.7437283 ,\n",
       "       -0.87677528, -2.21130765,  2.36423188, -0.49548032,  0.9026012 ,\n",
       "        2.809076  , -0.46370574, -0.2095091 , -0.55902948,  1.5380928 ,\n",
       "       -0.08241078, -1.32161941, -1.86178727,  0.2671096 ,  0.71195372,\n",
       "        0.33065876, -0.17773452, -2.52905345,  1.34744532,  0.5848554 ,\n",
       "        1.09324868, -0.81322612,  1.79228944,  0.07646212,  1.12502326,\n",
       "       -0.40015658, -0.01886162, -0.17773452, -2.24308223, -1.38516857,\n",
       "       -0.0506362 ,  0.1082367 ,  3.50811676,  0.77550288,  1.3792199 ,\n",
       "       -1.09919735,  1.31567074,  0.36243334,  0.52130624,  1.220347  ,\n",
       "        0.04468754, -1.06742276,  1.220347  ,  1.5380928 , -0.01886162,\n",
       "        0.17178586, -0.14595994,  0.33065876,  0.64840456, -1.83001269,\n",
       "       -0.27305826,  0.20356044,  0.07646212,  1.02969952,  2.0147115 ,\n",
       "       -0.368382  ,  0.04468754,  0.4259825 ,  0.52130624, -1.22629567,\n",
       "       -0.90854986,  0.87082662, -1.73468895,  1.72874028,  0.45775708,\n",
       "       -0.71790238, -0.08241078, -3.57761459, -0.49548032, -0.11418536,\n",
       "       -0.59080406,  0.77550288,  0.83905204,  0.96615036,  0.36243334,\n",
       "        0.01291296, -0.6861278 ,  0.99792494,  2.3324573 ,  0.61662998,\n",
       "        0.71195372,  0.48953166, -0.59080406, -1.09919735,  1.09324868,\n",
       "       -0.30483284, -1.57581605, -3.73648749, -0.0506362 ,  0.29888418,\n",
       "        0.36243334, -2.40195513,  0.33065876, -1.0038736 ,  0.23533502,\n",
       "        1.02969952,  0.04468754,  0.64840456, -1.83001269,  0.61662998,\n",
       "        0.45775708,  0.04468754, -0.59080406, -0.49548032, -0.27305826,\n",
       "        0.07646212,  0.07646212,  0.87082662, -1.89356185,  0.07646212,\n",
       "        0.17178586, -1.32161941,  0.93437578,  0.04468754,  0.17178586,\n",
       "        0.07646212, -0.62257864,  1.82406402, -0.11418536, -0.81322612,\n",
       "       -0.62257864, -0.01886162,  1.0614741 ,  0.07646212, -1.06742276,\n",
       "        0.9026012 ,  2.1735844 ,  0.48953166,  0.99792494,  0.20356044,\n",
       "       -0.62257864, -0.65435322, -1.09919735, -3.92713497,  0.45775708,\n",
       "       -0.30483284,  0.99792494,  0.9026012 ,  0.29888418,  0.55308082,\n",
       "        0.7437283 ,  0.45775708, -1.09919735,  0.23533502, -0.11418536,\n",
       "        0.39420792,  0.23533502,  3.4445676 ,  0.20356044,  0.20356044,\n",
       "        0.2671096 ,  0.45775708, -1.73468895, -1.38516857,  0.23533502,\n",
       "        0.2671096 , -1.28984483,  0.07646212, -1.51226689, -0.5272549 ,\n",
       "       -1.67113979, -0.11418536, -0.17773452,  0.48953166,  0.14001128,\n",
       "       -0.24128368, -1.60759063,  0.23533502,  0.04468754, -0.49548032,\n",
       "       -0.0506362 ,  0.2671096 ,  0.83905204, -1.73468895, -2.21130765,\n",
       "       -1.60759063,  0.83905204, -0.78145154,  0.71195372, -1.0038736 ,\n",
       "        1.98293692, -0.6861278 ,  0.29888418,  1.44276906, -0.43193116,\n",
       "        1.95116234, -0.11418536, -0.74967696,  0.01291296,  0.68017914,\n",
       "        0.99792494,  0.2671096 , -1.03564818,  1.34744532, -1.09919735,\n",
       "        0.33065876, -0.0506362 ,  1.15679784, -0.08241078, -0.43193116,\n",
       "       -0.71790238,  0.7437283 ,  0.87082662, -1.63936521,  0.07646212,\n",
       "        0.48953166, -0.33660742, -0.71790238,  1.09324868,  0.01291296,\n",
       "        0.29888418, -0.2095091 , -0.97209902,  0.20356044,  0.87082662,\n",
       "        1.6969657 , -0.2095091 ,  0.04468754,  0.04468754, -0.33660742,\n",
       "        1.12502326, -0.46370574,  1.0614741 , -0.6861278 ,  0.20356044,\n",
       "        0.52130624, -0.74967696, -1.03564818, -0.08241078, -0.87677528,\n",
       "       -0.74967696, -0.46370574, -0.27305826, -1.35339399,  0.17178586,\n",
       "       -0.33660742, -1.25807025, -1.03564818, -0.97209902,  1.0614741 ,\n",
       "       -0.87677528,  0.1082367 , -0.90854986, -0.11418536,  1.66519112,\n",
       "        1.02969952, -0.40015658,  1.0614741 , -0.59080406, -0.5272549 ,\n",
       "        0.39420792,  0.36243334,  0.39420792,  0.39420792,  0.93437578,\n",
       "        0.07646212, -0.8450007 , -0.0506362 ,  0.64840456,  0.83905204,\n",
       "       -0.11418536,  1.12502326, -2.05243475,  0.39420792, -1.57581605,\n",
       "       -1.19452109,  0.36243334,  0.33065876,  0.96615036, -0.87677528,\n",
       "       -0.71790238,  0.36243334, -0.2095091 , -0.368382  , -0.5272549 ,\n",
       "        0.71195372,  0.9026012 , -1.54404147,  1.15679784,  1.63341654,\n",
       "        0.17178586, -0.6861278 ,  1.95116234, -0.368382  ,  0.39420792,\n",
       "        0.71195372, -0.55902948,  0.93437578,  0.5848554 ,  0.01291296,\n",
       "        1.09324868,  1.34744532, -0.2095091 , -1.03564818,  0.36243334,\n",
       "       -1.22629567,  0.14001128, -0.33660742, -0.55902948,  0.07646212,\n",
       "       -1.73468895, -0.81322612, -0.14595994, -0.8450007 ,  0.07646212,\n",
       "        0.64840456, -1.48049231, -0.33660742,  0.68017914,  0.80727746,\n",
       "        0.9026012 , -0.5272549 , -1.09919735,  1.79228944,  1.41099448,\n",
       "        0.20356044, -2.56082803, -0.40015658, -0.17773452,  1.0614741 ,\n",
       "       -0.30483284, -1.92533643,  0.48953166, -0.5272549 ,  1.220347  ])"
      ]
     },
     "execution_count": 128,
     "metadata": {},
     "output_type": "execute_result"
    }
   ],
   "source": [
    "y_train"
   ]
  },
  {
   "cell_type": "code",
   "execution_count": 129,
   "metadata": {},
   "outputs": [
    {
     "name": "stdout",
     "output_type": "stream",
     "text": [
      "100%"
     ]
    }
   ],
   "source": [
    "regression_model = LinearRegression(fit_intercept=True)\n",
    "kf = KFold(n_splits=5)\n",
    "\n",
    "x_val_scores = []\n",
    "\n",
    "for n in range(1, 80, 5):\n",
    "    out = n * 1. / 80 * 100\n",
    "    sys.stdout.write(\"\\r%d%%\" % out)\n",
    "    sys.stdout.flush()\n",
    "    \n",
    "    pca = PCA(n_components=15)\n",
    "    pca.fit(X_train_full_poly)\n",
    "    \n",
    "    validation_R_sqs = []\n",
    "    for train_index, val_index in kf.split(X_train_pca):\n",
    "        X_train, X_val = X_train_full_poly[train_index], X_train_full_poly[val_index]\n",
    "        y_train2, y_val = y_train[train_index], y_train[val_index]\n",
    "\n",
    "        X_train_pca = pca.transform(X_train)\n",
    "        X_val_pca = pca.transform(X_val)\n",
    "        \n",
    "        regression_model.fit(X_train_pca, y_train2)\n",
    "        validation_R_sqs.append(regression_model.score(X_val_pca, y_val))\n",
    "        \n",
    "    x_val_scores.append(np.mean(validation_R_sqs))\n",
    "    \n",
    "sys.stdout.write(\"\\r%d%%\" % 100)"
   ]
  },
  {
   "cell_type": "code",
   "execution_count": 132,
   "metadata": {},
   "outputs": [
    {
     "data": {
      "text/plain": [
       "[-0.028376087476532041,\n",
       " -0.03364740319112762,\n",
       " -0.024791326787942512,\n",
       " -0.037915343692843349,\n",
       " -0.077015989227043627,\n",
       " -0.11117031209628707,\n",
       " -0.17559245032042387,\n",
       " -0.28131406252682073,\n",
       " -0.29962435074685401,\n",
       " -0.65216742172934716,\n",
       " -0.37290649892446187,\n",
       " -0.26401075667698953,\n",
       " -1.5204128177378973,\n",
       " -1.0301928954456365,\n",
       " -26.545314437908722,\n",
       " -93.474214197295154]"
      ]
     },
     "execution_count": 132,
     "metadata": {},
     "output_type": "execute_result"
    }
   ],
   "source": [
    "x_val_scores"
   ]
  },
  {
   "cell_type": "code",
   "execution_count": 133,
   "metadata": {},
   "outputs": [
    {
     "data": {
      "image/png": "[encoded data removed]",
      "text/plain": [
       "<matplotlib.figure.Figure at 0x119d705c0>"
      ]
     },
     "metadata": {},
     "output_type": "display_data"
    }
   ],
   "source": [
    "fig, ax = plt.subplots(1, 1)\n",
    "\n",
    "ax.plot(range(1, 80, 5), x_val_scores, color='blue')\n",
    "\n",
    "ax.set_title('Cross Validation Score vs. Number of PCA Components')\n",
    "ax.set_xlabel('number of components')\n",
    "ax.set_ylabel('Cross Validation Score')\n",
    "\n",
    "plt.show()"
   ]
  },
  {
   "cell_type": "code",
   "execution_count": 134,
   "metadata": {},
   "outputs": [
    {
     "ename": "ValueError",
     "evalue": "Found input variables with inconsistent numbers of samples: [876, 700]",
     "output_type": "error",
     "traceback": [
      "\u001b[0;31m---------------------------------------------------------------------------\u001b[0m",
      "\u001b[0;31mValueError\u001b[0m                                Traceback (most recent call last)",
      "\u001b[0;32m<ipython-input-134-42133410649a>\u001b[0m in \u001b[0;36m<module>\u001b[0;34m()\u001b[0m\n\u001b[1;32m      6\u001b[0m \u001b[0mX_test_pca\u001b[0m \u001b[0;34m=\u001b[0m \u001b[0mpca\u001b[0m\u001b[0;34m.\u001b[0m\u001b[0mtransform\u001b[0m\u001b[0;34m(\u001b[0m\u001b[0mX_test_full_poly\u001b[0m\u001b[0;34m)\u001b[0m\u001b[0;34m\u001b[0m\u001b[0m\n\u001b[1;32m      7\u001b[0m \u001b[0;34m\u001b[0m\u001b[0m\n\u001b[0;32m----> 8\u001b[0;31m \u001b[0mregression_model\u001b[0m\u001b[0;34m.\u001b[0m\u001b[0mfit\u001b[0m\u001b[0;34m(\u001b[0m\u001b[0mX_train_pca\u001b[0m\u001b[0;34m,\u001b[0m \u001b[0my_train\u001b[0m\u001b[0;34m)\u001b[0m\u001b[0;34m\u001b[0m\u001b[0m\n\u001b[0m\u001b[1;32m      9\u001b[0m \u001b[0mtest_R_sq\u001b[0m \u001b[0;34m=\u001b[0m \u001b[0mregression_model\u001b[0m\u001b[0;34m.\u001b[0m\u001b[0mscore\u001b[0m\u001b[0;34m(\u001b[0m\u001b[0mX_test_pca\u001b[0m\u001b[0;34m,\u001b[0m \u001b[0my_test\u001b[0m\u001b[0;34m)\u001b[0m\u001b[0;34m\u001b[0m\u001b[0m\n\u001b[1;32m     10\u001b[0m \u001b[0;34m\u001b[0m\u001b[0m\n",
      "\u001b[0;32m/anaconda/lib/python3.6/site-packages/sklearn/linear_model/base.py\u001b[0m in \u001b[0;36mfit\u001b[0;34m(self, X, y, sample_weight)\u001b[0m\n\u001b[1;32m    510\u001b[0m         \u001b[0mn_jobs_\u001b[0m \u001b[0;34m=\u001b[0m \u001b[0mself\u001b[0m\u001b[0;34m.\u001b[0m\u001b[0mn_jobs\u001b[0m\u001b[0;34m\u001b[0m\u001b[0m\n\u001b[1;32m    511\u001b[0m         X, y = check_X_y(X, y, accept_sparse=['csr', 'csc', 'coo'],\n\u001b[0;32m--> 512\u001b[0;31m                          y_numeric=True, multi_output=True)\n\u001b[0m\u001b[1;32m    513\u001b[0m \u001b[0;34m\u001b[0m\u001b[0m\n\u001b[1;32m    514\u001b[0m         \u001b[0;32mif\u001b[0m \u001b[0msample_weight\u001b[0m \u001b[0;32mis\u001b[0m \u001b[0;32mnot\u001b[0m \u001b[0;32mNone\u001b[0m \u001b[0;32mand\u001b[0m \u001b[0mnp\u001b[0m\u001b[0;34m.\u001b[0m\u001b[0matleast_1d\u001b[0m\u001b[0;34m(\u001b[0m\u001b[0msample_weight\u001b[0m\u001b[0;34m)\u001b[0m\u001b[0;34m.\u001b[0m\u001b[0mndim\u001b[0m \u001b[0;34m>\u001b[0m \u001b[0;36m1\u001b[0m\u001b[0;34m:\u001b[0m\u001b[0;34m\u001b[0m\u001b[0m\n",
      "\u001b[0;32m/anaconda/lib/python3.6/site-packages/sklearn/utils/validation.py\u001b[0m in \u001b[0;36mcheck_X_y\u001b[0;34m(X, y, accept_sparse, dtype, order, copy, force_all_finite, ensure_2d, allow_nd, multi_output, ensure_min_samples, ensure_min_features, y_numeric, warn_on_dtype, estimator)\u001b[0m\n\u001b[1;32m    529\u001b[0m         \u001b[0my\u001b[0m \u001b[0;34m=\u001b[0m \u001b[0my\u001b[0m\u001b[0;34m.\u001b[0m\u001b[0mastype\u001b[0m\u001b[0;34m(\u001b[0m\u001b[0mnp\u001b[0m\u001b[0;34m.\u001b[0m\u001b[0mfloat64\u001b[0m\u001b[0;34m)\u001b[0m\u001b[0;34m\u001b[0m\u001b[0m\n\u001b[1;32m    530\u001b[0m \u001b[0;34m\u001b[0m\u001b[0m\n\u001b[0;32m--> 531\u001b[0;31m     \u001b[0mcheck_consistent_length\u001b[0m\u001b[0;34m(\u001b[0m\u001b[0mX\u001b[0m\u001b[0;34m,\u001b[0m \u001b[0my\u001b[0m\u001b[0;34m)\u001b[0m\u001b[0;34m\u001b[0m\u001b[0m\n\u001b[0m\u001b[1;32m    532\u001b[0m \u001b[0;34m\u001b[0m\u001b[0m\n\u001b[1;32m    533\u001b[0m     \u001b[0;32mreturn\u001b[0m \u001b[0mX\u001b[0m\u001b[0;34m,\u001b[0m \u001b[0my\u001b[0m\u001b[0;34m\u001b[0m\u001b[0m\n",
      "\u001b[0;32m/anaconda/lib/python3.6/site-packages/sklearn/utils/validation.py\u001b[0m in \u001b[0;36mcheck_consistent_length\u001b[0;34m(*arrays)\u001b[0m\n\u001b[1;32m    179\u001b[0m     \u001b[0;32mif\u001b[0m \u001b[0mlen\u001b[0m\u001b[0;34m(\u001b[0m\u001b[0muniques\u001b[0m\u001b[0;34m)\u001b[0m \u001b[0;34m>\u001b[0m \u001b[0;36m1\u001b[0m\u001b[0;34m:\u001b[0m\u001b[0;34m\u001b[0m\u001b[0m\n\u001b[1;32m    180\u001b[0m         raise ValueError(\"Found input variables with inconsistent numbers of\"\n\u001b[0;32m--> 181\u001b[0;31m                          \" samples: %r\" % [int(l) for l in lengths])\n\u001b[0m\u001b[1;32m    182\u001b[0m \u001b[0;34m\u001b[0m\u001b[0m\n\u001b[1;32m    183\u001b[0m \u001b[0;34m\u001b[0m\u001b[0m\n",
      "\u001b[0;31mValueError\u001b[0m: Found input variables with inconsistent numbers of samples: [876, 700]"
     ]
    }
   ],
   "source": [
    "best_n = range(1, 80, 5)[np.argmax(x_val_scores)]\n",
    "\n",
    "pca = PCA(n_components=best_n)\n",
    "pca.fit(X_train_full_poly)\n",
    "X_train_pca = pca.transform(X_train_full_poly)\n",
    "X_test_pca = pca.transform(X_test_full_poly)\n",
    "\n",
    "regression_model.fit(X_train_pca, y_train)\n",
    "test_R_sq = regression_model.score(X_test_pca, y_test)\n",
    "\n",
    "print('best regularization param is:', best_n)\n",
    "print('the test R^2 for PC regression with n = {} is: {}'.format(best_n, test_R_sq))"
   ]
  },
  {
   "cell_type": "code",
   "execution_count": null,
   "metadata": {
    "collapsed": true
   },
   "outputs": [],
   "source": []
  },
  {
   "cell_type": "markdown",
   "metadata": {},
   "source": [
    "## Part (h) "
   ]
  },
  {
   "cell_type": "code",
   "execution_count": null,
   "metadata": {
    "collapsed": true
   },
   "outputs": [],
   "source": []
  },
  {
   "cell_type": "code",
   "execution_count": null,
   "metadata": {
    "collapsed": true
   },
   "outputs": [],
   "source": []
  },
  {
   "cell_type": "code",
   "execution_count": null,
   "metadata": {
    "collapsed": true
   },
   "outputs": [],
   "source": []
  }
 ],
 "metadata": {
  "anaconda-cloud": {},
  "kernelspec": {
   "display_name": "Python 3",
   "language": "python",
   "name": "python3"
  },
  "language_info": {
   "codemirror_mode": {
    "name": "ipython",
    "version": 3
   },
   "file_extension": ".py",
   "mimetype": "text/x-python",
   "name": "python",
   "nbconvert_exporter": "python",
   "pygments_lexer": "ipython3",
   "version": "3.6.1"
  }
 },
 "nbformat": 4,
 "nbformat_minor": 1
}
